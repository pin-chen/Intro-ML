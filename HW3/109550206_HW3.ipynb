{
 "cells": [
  {
   "cell_type": "markdown",
   "metadata": {},
   "source": [
    "## HW3: Decision Tree, AdaBoost and Random Forest\n",
    "In hw3, you need to implement decision tree, adaboost and random forest by using only numpy, then train your implemented model by the provided dataset. TA will use the on-hold test label to evaluate your model performance.\n",
    "\n",
    "Please note that only **NUMPY** can be used to implement your model, you will get no points by simply calling `sklearn.tree.DecisionTreeClassifier`"
   ]
  },
  {
   "cell_type": "code",
   "execution_count": 1,
   "metadata": {},
   "outputs": [],
   "source": [
    "import numpy as np"
   ]
  },
  {
   "cell_type": "markdown",
   "metadata": {},
   "source": [
    "## Question 1\n",
    "Gini Index or Entropy is often used for measuring the “best” splitting of the data. Please compute the Entropy and Gini Index of provided data. Please use the formula from [page 5 of hw3 slides](https://docs.google.com/presentation/d/1kIe_-YZdemRMmr_3xDy-l0OS2EcLgDH7Uan14tlU5KE/edit#slide=id.gd542a5ff75_0_15)"
   ]
  },
  {
   "cell_type": "code",
   "execution_count": 2,
   "metadata": {},
   "outputs": [],
   "source": [
    "# Copy and paste your implementations right here to check your result\n",
    "# (Of course you can add your classes not written here)\n",
    "def gini(sequence):\n",
    "    pj = np.unique(sequence, return_counts=True)[1] / len(sequence)\n",
    "    return 1 - np.sum(pj**2)\n",
    "\n",
    "def entropy(sequence):\n",
    "    pj = np.unique(sequence, return_counts=True)[1] / len(sequence)\n",
    "    return - np.sum(np.dot(pj, np.log2(pj)))"
   ]
  },
  {
   "cell_type": "code",
   "execution_count": 3,
   "metadata": {},
   "outputs": [],
   "source": [
    "# 1 = class 1,\n",
    "# 2 = class 2\n",
    "data = np.array([1,2,1,1,1,1,2,2,1,1,2])"
   ]
  },
  {
   "cell_type": "code",
   "execution_count": 4,
   "metadata": {},
   "outputs": [
    {
     "name": "stdout",
     "output_type": "stream",
     "text": [
      "Gini of data is  0.4628099173553719\n"
     ]
    }
   ],
   "source": [
    "print(\"Gini of data is \", gini(data))"
   ]
  },
  {
   "cell_type": "code",
   "execution_count": 5,
   "metadata": {},
   "outputs": [
    {
     "name": "stdout",
     "output_type": "stream",
     "text": [
      "Entropy of data is  0.9456603046006401\n"
     ]
    }
   ],
   "source": [
    "print(\"Entropy of data is \", entropy(data))"
   ]
  },
  {
   "cell_type": "markdown",
   "metadata": {},
   "source": [
    "## Load data\n",
    "It is a binary classifiation dataset that classify if price is high or not for a cell phone, the label is stored in `price_range` column."
   ]
  },
  {
   "cell_type": "code",
   "execution_count": 6,
   "metadata": {},
   "outputs": [
    {
     "name": "stdout",
     "output_type": "stream",
     "text": [
      "(1200, 21)\n",
      "(300, 21)\n",
      "(500, 20)\n"
     ]
    },
    {
     "data": {
      "text/html": [
       "<div>\n",
       "<style scoped>\n",
       "    .dataframe tbody tr th:only-of-type {\n",
       "        vertical-align: middle;\n",
       "    }\n",
       "\n",
       "    .dataframe tbody tr th {\n",
       "        vertical-align: top;\n",
       "    }\n",
       "\n",
       "    .dataframe thead th {\n",
       "        text-align: right;\n",
       "    }\n",
       "</style>\n",
       "<table border=\"1\" class=\"dataframe\">\n",
       "  <thead>\n",
       "    <tr style=\"text-align: right;\">\n",
       "      <th></th>\n",
       "      <th>battery_power</th>\n",
       "      <th>blue</th>\n",
       "      <th>clock_speed</th>\n",
       "      <th>dual_sim</th>\n",
       "      <th>fc</th>\n",
       "      <th>four_g</th>\n",
       "      <th>int_memory</th>\n",
       "      <th>m_dep</th>\n",
       "      <th>mobile_wt</th>\n",
       "      <th>n_cores</th>\n",
       "      <th>...</th>\n",
       "      <th>px_height</th>\n",
       "      <th>px_width</th>\n",
       "      <th>ram</th>\n",
       "      <th>sc_h</th>\n",
       "      <th>sc_w</th>\n",
       "      <th>talk_time</th>\n",
       "      <th>three_g</th>\n",
       "      <th>touch_screen</th>\n",
       "      <th>wifi</th>\n",
       "      <th>price_range</th>\n",
       "    </tr>\n",
       "  </thead>\n",
       "  <tbody>\n",
       "    <tr>\n",
       "      <th>0</th>\n",
       "      <td>1883</td>\n",
       "      <td>1</td>\n",
       "      <td>2.7</td>\n",
       "      <td>1</td>\n",
       "      <td>6</td>\n",
       "      <td>1</td>\n",
       "      <td>30</td>\n",
       "      <td>0.5</td>\n",
       "      <td>95</td>\n",
       "      <td>2</td>\n",
       "      <td>...</td>\n",
       "      <td>531</td>\n",
       "      <td>791</td>\n",
       "      <td>3724</td>\n",
       "      <td>16</td>\n",
       "      <td>15</td>\n",
       "      <td>20</td>\n",
       "      <td>1</td>\n",
       "      <td>1</td>\n",
       "      <td>1</td>\n",
       "      <td>1</td>\n",
       "    </tr>\n",
       "    <tr>\n",
       "      <th>1</th>\n",
       "      <td>987</td>\n",
       "      <td>1</td>\n",
       "      <td>1.9</td>\n",
       "      <td>0</td>\n",
       "      <td>4</td>\n",
       "      <td>1</td>\n",
       "      <td>52</td>\n",
       "      <td>0.5</td>\n",
       "      <td>83</td>\n",
       "      <td>3</td>\n",
       "      <td>...</td>\n",
       "      <td>419</td>\n",
       "      <td>736</td>\n",
       "      <td>2757</td>\n",
       "      <td>17</td>\n",
       "      <td>12</td>\n",
       "      <td>15</td>\n",
       "      <td>1</td>\n",
       "      <td>1</td>\n",
       "      <td>0</td>\n",
       "      <td>1</td>\n",
       "    </tr>\n",
       "    <tr>\n",
       "      <th>2</th>\n",
       "      <td>1306</td>\n",
       "      <td>1</td>\n",
       "      <td>2.1</td>\n",
       "      <td>1</td>\n",
       "      <td>2</td>\n",
       "      <td>1</td>\n",
       "      <td>33</td>\n",
       "      <td>0.4</td>\n",
       "      <td>174</td>\n",
       "      <td>3</td>\n",
       "      <td>...</td>\n",
       "      <td>867</td>\n",
       "      <td>1258</td>\n",
       "      <td>2521</td>\n",
       "      <td>6</td>\n",
       "      <td>5</td>\n",
       "      <td>16</td>\n",
       "      <td>1</td>\n",
       "      <td>0</td>\n",
       "      <td>0</td>\n",
       "      <td>1</td>\n",
       "    </tr>\n",
       "    <tr>\n",
       "      <th>3</th>\n",
       "      <td>1611</td>\n",
       "      <td>1</td>\n",
       "      <td>0.5</td>\n",
       "      <td>1</td>\n",
       "      <td>11</td>\n",
       "      <td>0</td>\n",
       "      <td>3</td>\n",
       "      <td>0.6</td>\n",
       "      <td>98</td>\n",
       "      <td>3</td>\n",
       "      <td>...</td>\n",
       "      <td>303</td>\n",
       "      <td>714</td>\n",
       "      <td>1595</td>\n",
       "      <td>8</td>\n",
       "      <td>4</td>\n",
       "      <td>9</td>\n",
       "      <td>1</td>\n",
       "      <td>0</td>\n",
       "      <td>1</td>\n",
       "      <td>0</td>\n",
       "    </tr>\n",
       "    <tr>\n",
       "      <th>4</th>\n",
       "      <td>862</td>\n",
       "      <td>1</td>\n",
       "      <td>0.8</td>\n",
       "      <td>1</td>\n",
       "      <td>3</td>\n",
       "      <td>0</td>\n",
       "      <td>23</td>\n",
       "      <td>0.4</td>\n",
       "      <td>165</td>\n",
       "      <td>2</td>\n",
       "      <td>...</td>\n",
       "      <td>793</td>\n",
       "      <td>1758</td>\n",
       "      <td>278</td>\n",
       "      <td>16</td>\n",
       "      <td>3</td>\n",
       "      <td>11</td>\n",
       "      <td>0</td>\n",
       "      <td>0</td>\n",
       "      <td>1</td>\n",
       "      <td>0</td>\n",
       "    </tr>\n",
       "  </tbody>\n",
       "</table>\n",
       "<p>5 rows × 21 columns</p>\n",
       "</div>"
      ],
      "text/plain": [
       "   battery_power  blue  clock_speed  dual_sim  fc  four_g  int_memory  m_dep  \\\n",
       "0           1883     1          2.7         1   6       1          30    0.5   \n",
       "1            987     1          1.9         0   4       1          52    0.5   \n",
       "2           1306     1          2.1         1   2       1          33    0.4   \n",
       "3           1611     1          0.5         1  11       0           3    0.6   \n",
       "4            862     1          0.8         1   3       0          23    0.4   \n",
       "\n",
       "   mobile_wt  n_cores  ...  px_height  px_width   ram  sc_h  sc_w  talk_time  \\\n",
       "0         95        2  ...        531       791  3724    16    15         20   \n",
       "1         83        3  ...        419       736  2757    17    12         15   \n",
       "2        174        3  ...        867      1258  2521     6     5         16   \n",
       "3         98        3  ...        303       714  1595     8     4          9   \n",
       "4        165        2  ...        793      1758   278    16     3         11   \n",
       "\n",
       "   three_g  touch_screen  wifi  price_range  \n",
       "0        1             1     1            1  \n",
       "1        1             1     0            1  \n",
       "2        1             0     0            1  \n",
       "3        1             0     1            0  \n",
       "4        0             0     1            0  \n",
       "\n",
       "[5 rows x 21 columns]"
      ]
     },
     "execution_count": 6,
     "metadata": {},
     "output_type": "execute_result"
    }
   ],
   "source": [
    "import pandas as pd\n",
    "\n",
    "train_df = pd.read_csv('train.csv')\n",
    "val_df = pd.read_csv('val.csv')\n",
    "test_df = pd.read_csv('x_test.csv')\n",
    "print(train_df.shape)\n",
    "print(val_df.shape)\n",
    "print(test_df.shape)\n",
    "val_df.head()"
   ]
  },
  {
   "cell_type": "code",
   "execution_count": 7,
   "metadata": {},
   "outputs": [
    {
     "name": "stdout",
     "output_type": "stream",
     "text": [
      "['battery_power', 'blue', 'clock_speed', 'dual_sim', 'fc', 'four_g', 'int_memory', 'm_dep', 'mobile_wt', 'n_cores', 'pc', 'px_height', 'px_width', 'ram', 'sc_h', 'sc_w', 'talk_time', 'three_g', 'touch_screen', 'wifi']\n"
     ]
    }
   ],
   "source": [
    "features = []\n",
    "for feature in train_df.columns:\n",
    "    if feature != \"price_range\":\n",
    "        features.append(feature)\n",
    "print(features)"
   ]
  },
  {
   "cell_type": "code",
   "execution_count": 8,
   "metadata": {},
   "outputs": [],
   "source": [
    "x_train, y_train = train_df[features].to_numpy(), train_df[\"price_range\"].to_numpy()\n",
    "x_test, y_test = val_df[features].to_numpy(), val_df[\"price_range\"].to_numpy()\n",
    "demo = test_df.to_numpy()"
   ]
  },
  {
   "cell_type": "markdown",
   "metadata": {},
   "source": [
    "## Question 2\n",
    "Implement the Decision Tree algorithm (CART, Classification and Regression Trees) and trained the model by the given arguments, and print the accuracy score on the validation data. You should implement two arguments for the Decision Tree algorithm\n",
    "1. **criterion**: The function to measure the quality of a split. Your model should support `gini` for the Gini impurity and `entropy` for the information gain. \n",
    "2. **max_depth**: The maximum depth of the tree. If `max_depth=None`, then nodes are expanded until all leaves are pure. `max_depth=1` equals to split data once\n"
   ]
  },
  {
   "cell_type": "code",
   "execution_count": 9,
   "metadata": {},
   "outputs": [],
   "source": [
    "class Node:\n",
    "    def __init__(self, class_index):\n",
    "        self.class_index = class_index\n",
    "        self.feature_index = 0\n",
    "        self.threshold = 0\n",
    "        self.left = None\n",
    "        self.right = None"
   ]
  },
  {
   "cell_type": "code",
   "execution_count": 10,
   "metadata": {},
   "outputs": [],
   "source": [
    "class DecisionTree():\n",
    "    def __init__(self, criterion='gini', max_depth=None, max_features=-1):\n",
    "        self.criterion = criterion\n",
    "        self.max_depth = max_depth\n",
    "        self.root = None\n",
    "        self.num_features = None\n",
    "        self.feature_weight = None\n",
    "        self.max_features = max_features\n",
    "\n",
    "    def gini(self, y_data, sample_weight):\n",
    "        if len(y_data) == 0 or len(np.unique(y_data)) < 2:\n",
    "            return 0\n",
    "        pj = np.array([np.sum(sample_weight[y_data == 0]), np.sum(sample_weight[y_data == 1])]) / np.sum(sample_weight)\n",
    "        return 1 - np.sum(pj**2)\n",
    "\n",
    "    def entropy(self, y_data, sample_weight):\n",
    "        if len(y_data) == 0 or len(np.unique(y_data)) < 2:\n",
    "            return 0\n",
    "        pj = np.array([np.sum(sample_weight[y_data == 0]), np.sum(sample_weight[y_data == 1])]) / np.sum(sample_weight)\n",
    "        return - np.sum(np.dot(pj, np.log2(pj)))\n",
    "        \n",
    "    def SplitAttribute(self, x_data, y_data, sample_weight):\n",
    "        feature_index = None\n",
    "        threshold = None\n",
    "        y_len = len(y_data)\n",
    "        if len(np.unique(y_data)) <= 1:\n",
    "            return None, None\n",
    "        random_features = np.sort(np.random.permutation(np.arange(self.num_features))[:self.max_features])\n",
    "        if self.criterion == 'gini':\n",
    "            MinEnt = self.gini(y_data, sample_weight)\n",
    "        else:\n",
    "            MinEnt = self.entropy(y_data, sample_weight)\n",
    "        z_data = np.concatenate((np.concatenate((x_data[:,random_features], y_data.reshape(y_len, 1)), axis=1), sample_weight.reshape(y_len, 1)), axis=1)\n",
    "        for i in range(self.max_features):\n",
    "            s_data = z_data[np.argsort(z_data[:, i])]\n",
    "            x_temp, y_temp, sample_weight_temp = s_data[:,i], s_data[:,self.max_features], s_data[:,self.max_features+1]\n",
    "            for j in range(1, y_len):\n",
    "                if x_temp[j] == x_temp[j - 1]:\n",
    "                    continue\n",
    "                if self.criterion == 'gini':\n",
    "                    e = (j * self.gini(y_temp[:j], sample_weight_temp[:j]) + (y_len - j) * self.gini(y_temp[j:], sample_weight_temp[j:])) / y_len\n",
    "                else:\n",
    "                    e = (j * self.entropy(y_temp[:j], sample_weight_temp[:j]) + (y_len - j) * self.entropy(y_temp[j:], sample_weight_temp[j:])) / y_len\n",
    "                if e < MinEnt:\n",
    "                    MinEnt = e\n",
    "                    feature_index = random_features[i]\n",
    "                    threshold = (x_temp[j] + x_temp[j - 1]) / 2\n",
    "        return feature_index, threshold\n",
    "\n",
    "    def GenerateTree(self, x_data, y_data, depth, sample_weight):\n",
    "        p = np.unique(y_data, return_counts=True)\n",
    "        class_index = p[0][np.argmax(p[1])]\n",
    "        new_node = Node(class_index=class_index)\n",
    "        if self.max_depth != None and depth >= self.max_depth:\n",
    "            return new_node\n",
    "        feature_index, threshold = self.SplitAttribute(x_data, y_data, sample_weight)\n",
    "        if feature_index == None and threshold == None:\n",
    "            return new_node\n",
    "        self.feature_weight[feature_index] += 1\n",
    "        new_node.feature_index = feature_index\n",
    "        new_node.threshold = threshold\n",
    "        left_index = x_data[:, feature_index] > threshold\n",
    "        right_index = x_data[:, feature_index] <= threshold\n",
    "        if len(left_index) <= 0 or len(right_index) <= 0:\n",
    "            return new_node\n",
    "        new_node.left = self.GenerateTree(x_data[left_index], y_data[left_index], depth + 1, sample_weight[left_index])\n",
    "        new_node.right = self.GenerateTree(x_data[right_index], y_data[right_index], depth + 1, sample_weight[right_index])\n",
    "        return new_node\n",
    "\n",
    "    def fit(self, x_data, y_data, sample_weight=[]):\n",
    "        self.num_features = x_data.shape[1]\n",
    "        self.feature_weight = np.zeros(self.num_features)\n",
    "        if self.max_features == -1:\n",
    "            self.max_features = self.num_features\n",
    "        if len(sample_weight) != len(y_data):\n",
    "            sample_weight = np.ones(len(y_data))\n",
    "        self.root = self.GenerateTree(x_data, y_data, 0, sample_weight)\n",
    "\n",
    "    def predict(self, x_data):\n",
    "        if self.root == None:\n",
    "            #print(\"Why!\")\n",
    "            return np.zeros(x_data.shape[0])\n",
    "        #print('OK')\n",
    "        y_pred = []\n",
    "        for feature in x_data:\n",
    "            cur_node = self.root\n",
    "            while cur_node.left and cur_node.right:\n",
    "                if feature[cur_node.feature_index] > cur_node.threshold:\n",
    "                    cur_node = cur_node.left\n",
    "                else:\n",
    "                    cur_node = cur_node.right\n",
    "            y_pred.append(cur_node.class_index)\n",
    "        return np.array(y_pred)\n"
   ]
  },
  {
   "cell_type": "code",
   "execution_count": 11,
   "metadata": {},
   "outputs": [],
   "source": [
    "from sklearn.metrics import accuracy_score"
   ]
  },
  {
   "cell_type": "markdown",
   "metadata": {},
   "source": [
    "### Question 2.1\n",
    "Using `criterion=gini`, showing the accuracy score of validation data by `max_depth=3` and `max_depth=10`, respectively.\n"
   ]
  },
  {
   "cell_type": "code",
   "execution_count": 12,
   "metadata": {},
   "outputs": [],
   "source": [
    "clf_depth3 = DecisionTree(criterion='gini', max_depth=3)\n",
    "clf_depth10 = DecisionTree(criterion='gini', max_depth=10)\n",
    "clf_depth3.fit(x_train, y_train)\n",
    "clf_depth10.fit(x_train, y_train)\n"
   ]
  },
  {
   "cell_type": "code",
   "execution_count": 13,
   "metadata": {},
   "outputs": [
    {
     "name": "stdout",
     "output_type": "stream",
     "text": [
      "0.92\n",
      "0.94\n"
     ]
    }
   ],
   "source": [
    "clf_depth3_pred = clf_depth3.predict(x_test)\n",
    "clf_depth10_pred = clf_depth10.predict(x_test)\n",
    "print(accuracy_score(y_test, clf_depth3_pred))\n",
    "print(accuracy_score(y_test, clf_depth10_pred))"
   ]
  },
  {
   "cell_type": "markdown",
   "metadata": {},
   "source": [
    "### Question 2.2\n",
    "Using `max_depth=3`, showing the accuracy score of validation data by `criterion=gini` and `criterion=entropy`, respectively.\n"
   ]
  },
  {
   "cell_type": "code",
   "execution_count": 14,
   "metadata": {},
   "outputs": [],
   "source": [
    "clf_gini = DecisionTree(criterion='gini', max_depth=3)\n",
    "clf_entropy = DecisionTree(criterion='entropy', max_depth=3)\n",
    "clf_gini.fit(x_train, y_train)\n",
    "clf_entropy.fit(x_train, y_train)\n"
   ]
  },
  {
   "cell_type": "code",
   "execution_count": 15,
   "metadata": {},
   "outputs": [
    {
     "name": "stdout",
     "output_type": "stream",
     "text": [
      "0.92\n",
      "0.9333333333333333\n"
     ]
    }
   ],
   "source": [
    "clf_gini_pred = clf_gini.predict(x_test)\n",
    "clf_entropy_pred = clf_entropy.predict(x_test)\n",
    "print(accuracy_score(y_test, clf_gini_pred))\n",
    "print(accuracy_score(y_test, clf_entropy_pred))"
   ]
  },
  {
   "cell_type": "markdown",
   "metadata": {},
   "source": [
    "- Note: Your decisition tree scores should over **0.9**. It may suffer from overfitting, if so, you can tune the hyperparameter such as `max_depth`\n",
    "- Note: You should get the same results when re-building the model with the same arguments,  no need to prune the trees\n",
    "- Hint: You can use the recursive method to build the nodes\n"
   ]
  },
  {
   "cell_type": "markdown",
   "metadata": {},
   "source": [
    "## Question 3\n",
    "Plot the [feature importance](https://sefiks.com/2020/04/06/feature-importance-in-decision-trees/) of your Decision Tree model. You can get the feature importance by counting the feature used for splitting data.\n",
    "\n",
    "- You can simply plot the **counts of feature used** for building tree without normalize the importance. Take the figure below as example, outlook feature has been used for splitting for almost 50 times. Therefore, it has the largest importance\n",
    "\n",
    "![image](https://i2.wp.com/sefiks.com/wp-content/uploads/2020/04/c45-fi-results.jpg?w=481&ssl=1)"
   ]
  },
  {
   "cell_type": "code",
   "execution_count": 16,
   "metadata": {},
   "outputs": [
    {
     "data": {
      "text/plain": [
       "Text(0.5, 1.0, 'Feature Importance')"
      ]
     },
     "execution_count": 16,
     "metadata": {},
     "output_type": "execute_result"
    },
    {
     "data": {
      "image/png": "[encoded data removed]",
      "text/plain": [
       "<Figure size 640x480 with 1 Axes>"
      ]
     },
     "metadata": {},
     "output_type": "display_data"
    }
   ],
   "source": [
    "import matplotlib.pyplot as plt\n",
    "plt.barh(features, clf_depth10.feature_weight)\n",
    "for i in range(7):\n",
    "    plt.axvline(x=i*5, linewidth=1, color='0.8')\n",
    "plt.tick_params(axis='x', length=0)\n",
    "plt.tick_params(axis='y', length=0)\n",
    "ax = plt.gca()\n",
    "ax.spines['top'].set_visible(False)\n",
    "ax.spines['right'].set_visible(False)\n",
    "ax.spines['bottom'].set_visible(False)\n",
    "ax.spines['left'].set_visible(False)\n",
    "plt.title('Feature Importance')"
   ]
  },
  {
   "cell_type": "markdown",
   "metadata": {},
   "source": [
    "## Question 4\n",
    "implement the AdaBooest algorithm by using the CART you just implemented from question 2 as base learner. You should implement one arguments for the AdaBooest.\n",
    "1. **n_estimators**: The maximum number of estimators at which boosting is terminated"
   ]
  },
  {
   "cell_type": "code",
   "execution_count": 17,
   "metadata": {},
   "outputs": [],
   "source": [
    "class AdaBoost():\n",
    "    def __init__(self, n_estimators):\n",
    "        self.n_estimators = n_estimators\n",
    "        self.classifier = list()\n",
    "        self.classifier_weight = list()\n",
    "    def fit(self, x_data, y_data):\n",
    "        #x_temp = x_data.copy()\n",
    "        self.classifier = list()\n",
    "        self.classifier_weight = list()\n",
    "        D = np.ones(len(y_data)) / len(y_data)\n",
    "        for i in range(self.n_estimators):\n",
    "            self.classifier.append(DecisionTree(criterion='gini', max_depth=3))\n",
    "            self.classifier[i].fit(x_data, y_data, D)\n",
    "            y_pred = self.classifier[i].predict(x_data)\n",
    "            #for j in range(len(y_pred)):\n",
    "            #    if y_pred[j] != y_data[j]:\n",
    "            #        x_temp[j] = np.dot(x_temp[j], 2.0)\n",
    "            e = np.sum(D[y_pred != y_data])\n",
    "            if e >= 1.0:\n",
    "                self.classifier_weight.append(0)\n",
    "            elif e <= 0.0:\n",
    "                self.classifier_weight.append(300)\n",
    "            else:\n",
    "                self.classifier_weight.append(1/2 * np.log((1 - e) / e))\n",
    "            tmp = y_data - y_pred\n",
    "            tmp[tmp != 0] = -1\n",
    "            tmp[tmp == 0] = 1\n",
    "            D = D * np.exp(- self.classifier_weight[i] * tmp)\n",
    "            D = D / np.sum(D)\n",
    "            \n",
    "    def predict(self, x_data):\n",
    "        pred = np.zeros(len(x_data))\n",
    "        for i in range(len(self.classifier)):\n",
    "            y_pred = self.classifier[i].predict(x_data)\n",
    "            y_pred[y_pred == 0] = -1\n",
    "            pred = pred + self.classifier_weight[i] * y_pred\n",
    "        pred = np.sign(pred)\n",
    "        pred[pred <= 0] = 0\n",
    "        return pred"
   ]
  },
  {
   "cell_type": "markdown",
   "metadata": {},
   "source": [
    "### Question 4.1\n",
    "Show the accuracy score of validation data by `n_estimators=10` and `n_estimators=100`, respectively.\n"
   ]
  },
  {
   "cell_type": "code",
   "execution_count": 18,
   "metadata": {},
   "outputs": [],
   "source": [
    "clf_n_estimators10 = AdaBoost(n_estimators=10)\n",
    "clf_n_estimators100 = AdaBoost(n_estimators=100)\n",
    "clf_n_estimators10.fit(x_train, y_train)\n",
    "clf_n_estimators100.fit(x_train, y_train)"
   ]
  },
  {
   "cell_type": "code",
   "execution_count": 19,
   "metadata": {},
   "outputs": [
    {
     "name": "stdout",
     "output_type": "stream",
     "text": [
      "0.95\n",
      "0.95\n"
     ]
    }
   ],
   "source": [
    "clf_n_estimators10_pred = clf_n_estimators10.predict(x_test)\n",
    "clf_n_estimators100_pred = clf_n_estimators100.predict(x_test)\n",
    "print(accuracy_score(y_test, clf_n_estimators10_pred))\n",
    "print(accuracy_score(y_test, clf_n_estimators100_pred))"
   ]
  },
  {
   "cell_type": "markdown",
   "metadata": {},
   "source": [
    "## Question 5\n",
    "implement the Random Forest algorithm by using the CART you just implemented from question 2. You should implement three arguments for the Random Forest.\n",
    "\n",
    "1. **n_estimators**: The number of trees in the forest. \n",
    "2. **max_features**: The number of random select features to consider when looking for the best split\n",
    "3. **bootstrap**: Whether bootstrap samples are used when building tree\n"
   ]
  },
  {
   "cell_type": "code",
   "execution_count": 20,
   "metadata": {},
   "outputs": [],
   "source": [
    "class RandomForest():\n",
    "    def __init__(self, n_estimators, max_features, boostrap=True, criterion='gini', max_depth=None):\n",
    "        self.n_estimators = n_estimators\n",
    "        self.max_features = int(max_features)\n",
    "        self.boostrap = boostrap\n",
    "        self.criterion = criterion\n",
    "        self.max_depth = max_depth\n",
    "        self.classifier = list()\n",
    "\n",
    "    def fit(self, x_data, y_data, sample_weight=[]):\n",
    "        for i in range(self.n_estimators):\n",
    "            if self.boostrap:\n",
    "                sample_index = np.random.choice(len(x_data), size=len(x_data), replace=True)\n",
    "            else:\n",
    "                sample_index = np.arange(len(x_data))\n",
    "            self.classifier.append(DecisionTree(criterion=self.criterion, max_depth=self.max_depth, max_features=self.max_features))\n",
    "            self.classifier[i].fit(x_data[sample_index], y_data[sample_index], sample_weight)\n",
    "\n",
    "    def predict(self, x_data):\n",
    "        y_pred = self.classifier[0].predict(x_data)\n",
    "        ans = list()\n",
    "        for i in range(1, len(self.classifier)):\n",
    "            y_pred += self.classifier[i].predict(x_data)\n",
    "        for i in range(len(y_pred)):\n",
    "            ans.append(y_pred[i] > (self.n_estimators / 2))\n",
    "        return np.array(ans)"
   ]
  },
  {
   "cell_type": "markdown",
   "metadata": {},
   "source": [
    "### Question 5.1\n",
    "Using `criterion=gini`, `max_depth=None`, `max_features=sqrt(n_features)`, showing the accuracy score of validation data by `n_estimators=10` and `n_estimators=100`, respectively.\n"
   ]
  },
  {
   "cell_type": "code",
   "execution_count": 21,
   "metadata": {},
   "outputs": [],
   "source": [
    "clf_10tree = RandomForest(n_estimators=10, max_features=np.sqrt(x_train.shape[1]))\n",
    "clf_100tree = RandomForest(n_estimators=100, max_features=np.sqrt(x_train.shape[1]))"
   ]
  },
  {
   "cell_type": "code",
   "execution_count": 22,
   "metadata": {},
   "outputs": [],
   "source": [
    "clf_10tree.fit(x_train, y_train)\n",
    "clf_100tree.fit(x_train, y_train)"
   ]
  },
  {
   "cell_type": "code",
   "execution_count": 23,
   "metadata": {},
   "outputs": [
    {
     "name": "stdout",
     "output_type": "stream",
     "text": [
      "0.9266666666666666\n",
      "0.9566666666666667\n"
     ]
    }
   ],
   "source": [
    "clf_10tree_pred = clf_10tree.predict(x_test)\n",
    "clf_100tree_pred = clf_100tree.predict(x_test)\n",
    "print(accuracy_score(y_test, clf_10tree_pred))\n",
    "print(accuracy_score(y_test, clf_100tree_pred))"
   ]
  },
  {
   "cell_type": "markdown",
   "metadata": {},
   "source": [
    "### Question 5.2\n",
    "Using `criterion=gini`, `max_depth=None`, `n_estimators=10`, showing the accuracy score of validation data by `max_features=sqrt(n_features)` and `max_features=n_features`, respectively.\n"
   ]
  },
  {
   "cell_type": "code",
   "execution_count": 24,
   "metadata": {},
   "outputs": [],
   "source": [
    "clf_random_features = RandomForest(n_estimators=10, max_features=np.sqrt(x_train.shape[1]))\n",
    "clf_all_features = RandomForest(n_estimators=10, max_features=x_train.shape[1])"
   ]
  },
  {
   "cell_type": "code",
   "execution_count": 25,
   "metadata": {},
   "outputs": [],
   "source": [
    "clf_random_features.fit(x_train, y_train)\n",
    "clf_all_features.fit(x_train, y_train)"
   ]
  },
  {
   "cell_type": "code",
   "execution_count": 26,
   "metadata": {},
   "outputs": [
    {
     "name": "stdout",
     "output_type": "stream",
     "text": [
      "0.9466666666666667\n",
      "0.97\n"
     ]
    }
   ],
   "source": [
    "clf_random_features_pred = clf_random_features.predict(x_test)\n",
    "clf_all_features_pred = clf_all_features.predict(x_test)\n",
    "print(accuracy_score(y_test, clf_random_features_pred))\n",
    "print(accuracy_score(y_test, clf_all_features_pred))"
   ]
  },
  {
   "cell_type": "markdown",
   "metadata": {},
   "source": [
    "- Note: Use majority votes to get the final prediction, you may get slightly different results when re-building the random forest model"
   ]
  },
  {
   "cell_type": "markdown",
   "metadata": {},
   "source": [
    "### Question 6. Train and tune your model on a real-world dataset\n",
    "Try you best to get higher accuracy score of your model. After parameter tuning, you can train your model on the full dataset (train + val).\n",
    "- Feature engineering\n",
    "- Hyperparameter tuning\n",
    "- Implement any other ensemble methods, such as gradient boosting. Please note that you **can not** call any package. Also, only ensemble method can be used. Neural network method is not allowed to used."
   ]
  },
  {
   "cell_type": "code",
   "execution_count": 27,
   "metadata": {},
   "outputs": [],
   "source": [
    "class MyModel():\n",
    "    def __init__(self):\n",
    "        self.n_estimators = 100\n",
    "        self.max_features = 10\n",
    "        self.boostrap = True\n",
    "        self.criterion = 'entropy'\n",
    "        self.max_depth = 8\n",
    "        self.classifier = list()\n",
    "        self.classifier_weight = list()\n",
    "\n",
    "    def fit(self, x_data, y_data):\n",
    "        x_temp = x_data.copy()\n",
    "        D = np.ones(len(y_data)) / len(y_data)\n",
    "        for i in range(self.n_estimators):\n",
    "            if self.boostrap:\n",
    "                sample_index = np.random.choice(len(x_data), size=len(x_data), replace=True)\n",
    "            else:\n",
    "                sample_index = np.arange(len(x_data))\n",
    "            self.classifier.append(DecisionTree(criterion=self.criterion, max_depth=self.max_depth, max_features=self.max_features))\n",
    "            self.classifier[i].fit(x_data[sample_index], y_data[sample_index], D[sample_index])\n",
    "            y_pred = self.classifier[i].predict(x_temp)\n",
    "            e = np.sum(D[y_pred != y_data])\n",
    "            if e >= 1.0:\n",
    "                self.classifier_weight.append(0)\n",
    "            elif e <= 0.0:\n",
    "                self.classifier_weight.append(300)\n",
    "            else:\n",
    "                self.classifier_weight.append(1/2 * np.log((1 - e) / e))\n",
    "            tmp = y_data - y_pred\n",
    "            tmp[tmp != 0] = -1\n",
    "            tmp[tmp == 0] = 1\n",
    "            D = D * np.exp(- self.classifier_weight[i] * tmp)\n",
    "            D = D / np.sum(D)\n",
    "\n",
    "    def predict(self, x_data):\n",
    "        pred = np.zeros(len(x_data))\n",
    "        for i in range(1, len(self.classifier)):\n",
    "            y_pred = self.classifier[i].predict(x_data)\n",
    "            y_pred[y_pred == 0] = -1\n",
    "            pred += y_pred * self.classifier_weight[i]\n",
    "        pred = np.sign(pred)\n",
    "        pred[pred < 0] = 0\n",
    "        return pred"
   ]
  },
  {
   "cell_type": "code",
   "execution_count": 28,
   "metadata": {},
   "outputs": [
    {
     "name": "stdout",
     "output_type": "stream",
     "text": [
      "0.9566666666666667\n"
     ]
    }
   ],
   "source": [
    "my_model = MyModel()\n",
    "my_model.fit(x_train, y_train)\n",
    "y_pred = my_model.predict(x_test)\n",
    "print(accuracy_score(y_test, y_pred))"
   ]
  },
  {
   "cell_type": "code",
   "execution_count": 29,
   "metadata": {},
   "outputs": [],
   "source": [
    "a_train = np.concatenate((x_train, x_test), axis=0)\n",
    "b_train = np.concatenate((y_train, y_test), axis=0)"
   ]
  },
  {
   "cell_type": "code",
   "execution_count": 30,
   "metadata": {},
   "outputs": [],
   "source": [
    "my_model = MyModel()\n",
    "my_model.fit(a_train, b_train)\n",
    "y_pred = my_model.predict(demo)"
   ]
  },
  {
   "cell_type": "code",
   "execution_count": 31,
   "metadata": {},
   "outputs": [],
   "source": [
    "assert y_pred.shape == (500, )"
   ]
  },
  {
   "cell_type": "markdown",
   "metadata": {},
   "source": [
    "## Supplementary\n",
    "If you have trouble to implement this homework, TA strongly recommend watching [this video](https://www.youtube.com/watch?v=LDRbO9a6XPU), which explains Decision Tree model clearly. But don't copy code from any resources, try to finish this homework by yourself! "
   ]
  },
  {
   "cell_type": "markdown",
   "metadata": {},
   "source": [
    "### DO NOT MODIFY CODE BELOW"
   ]
  },
  {
   "cell_type": "code",
   "execution_count": 32,
   "metadata": {},
   "outputs": [
    {
     "name": "stdout",
     "output_type": "stream",
     "text": [
      "Test-set accuarcy score:  1.0\n"
     ]
    }
   ],
   "source": [
    "import pandas as pd\n",
    "from sklearn.metrics import accuracy_score\n",
    "y_test = pd.read_csv('y_test.csv')['price_range'].values\n",
    "\n",
    "print('Test-set accuarcy score: ', accuracy_score(y_test, y_pred))"
   ]
  },
  {
   "cell_type": "code",
   "execution_count": null,
   "metadata": {},
   "outputs": [],
   "source": []
  },
  {
   "cell_type": "code",
   "execution_count": 33,
   "metadata": {},
   "outputs": [
    {
     "name": "stdout",
     "output_type": "stream",
     "text": [
      "*** We will check your result for Question 3 manually *** (5 points)\n",
      "*** We will check your result for Question 6 manually *** (20 points)\n",
      "Approximate score range: 45.0 ~ 70.0\n",
      "*** This score is only for reference ***\n"
     ]
    }
   ],
   "source": [
    "def discrete_checker(score, thres, clf, name, x_train, y_train, x_test, y_test):\n",
    "    clf.fit(x_train, y_train)\n",
    "    y_pred = clf.predict(x_test)\n",
    "    if accuracy_score(y_test, y_pred) - thres >= 0:\n",
    "        return score\n",
    "    else:\n",
    "        print(f\"{name} failed\")\n",
    "        return 0\n",
    "\n",
    "\n",
    "def patient_checker(score, thres, CLS, kwargs, name,\n",
    "                    x_train, y_train, x_test, y_test, patient=10):\n",
    "    while patient > 0:\n",
    "        patient -= 1\n",
    "        clf = CLS(**kwargs)\n",
    "        clf.fit(x_train, y_train)\n",
    "        y_pred = clf.predict(x_test)\n",
    "        if accuracy_score(y_test, y_pred) - thres >= 0:\n",
    "            return score\n",
    "    print(f\"{name} failed\")\n",
    "    print(\"Considering the randomness, we will check it manually\")\n",
    "    return 0\n",
    "\n",
    "\n",
    "def load_dataset():\n",
    "    file_url = \"http://storage.googleapis.com/download.tensorflow.org/data/abalone_train.csv\"\n",
    "    df = pd.read_csv(\n",
    "        file_url,\n",
    "        names=[\"Length\", \"Diameter\", \"Height\", \"Whole weight\", \"Shucked weight\",\n",
    "               \"Viscera weight\", \"Shell weight\", \"Age\"]\n",
    "    )\n",
    "\n",
    "    df['Target'] = (df[\"Age\"] > 15).astype(int)\n",
    "    df = df.drop(labels=[\"Age\"], axis=\"columns\")\n",
    "\n",
    "    train_idx = range(0, len(df), 10)\n",
    "    test_idx = range(1, len(df), 20)\n",
    "\n",
    "    train_df = df.iloc[train_idx]\n",
    "    test_df = df.iloc[test_idx]\n",
    "\n",
    "    x_train = train_df.drop(labels=[\"Target\"], axis=\"columns\")\n",
    "    feature_names = x_train.columns.values\n",
    "    x_train = x_train.values\n",
    "    y_train = train_df['Target'].values\n",
    "\n",
    "    x_test = test_df.drop(labels=[\"Target\"], axis=\"columns\")\n",
    "    x_test = x_test.values\n",
    "    y_test = test_df['Target'].values\n",
    "    return x_train, y_train, x_test, y_test, feature_names\n",
    "\n",
    "\n",
    "score = 0\n",
    "\n",
    "data = np.array([1, 2])\n",
    "if abs(gini(data) - 0.5) < 1e-4:\n",
    "    score += 2.5\n",
    "else:\n",
    "    print(\"gini test failed\")\n",
    "\n",
    "if abs(entropy(data) - 1) < 1e-4:\n",
    "    score += 2.5\n",
    "else:\n",
    "    print(\"entropy test failed\")\n",
    "\n",
    "x_train, y_train, x_test, y_test, feature_names = load_dataset()\n",
    "\n",
    "score += discrete_checker(5, 0.9337,\n",
    "                          DecisionTree(criterion='gini', max_depth=3),\n",
    "                          \"DecisionTree(criterion='gini', max_depth=3)\",\n",
    "                          x_train, y_train, x_test, y_test\n",
    "                          )\n",
    "\n",
    "score += discrete_checker(2.5, 0.9036,\n",
    "                          DecisionTree(criterion='gini', max_depth=10),\n",
    "                          \"DecisionTree(criterion='gini', max_depth=10)\",\n",
    "                          x_train, y_train, x_test, y_test\n",
    "                          )\n",
    "\n",
    "score += discrete_checker(2.5, 0.9096,\n",
    "                          DecisionTree(criterion='entropy', max_depth=3),\n",
    "                          \"DecisionTree(criterion='entropy', max_depth=3)\",\n",
    "                          x_train, y_train, x_test, y_test\n",
    "                          )\n",
    "\n",
    "print(\"*** We will check your result for Question 3 manually *** (5 points)\")\n",
    "\n",
    "score += patient_checker(\n",
    "    7.5, 0.91, AdaBoost, {\"n_estimators\": 10},\n",
    "    \"AdaBoost(n_estimators=10)\",\n",
    "    x_train, y_train, x_test, y_test\n",
    ")\n",
    "\n",
    "score += patient_checker(\n",
    "    7.5, 0.87, AdaBoost, {\"n_estimators\": 100},\n",
    "    \"AdaBoost(n_estimators=100)\",\n",
    "    x_train, y_train, x_test, y_test\n",
    ")\n",
    "\n",
    "score += patient_checker(\n",
    "    5, 0.91, RandomForest,\n",
    "    {\"n_estimators\": 10, \"max_features\": np.sqrt(x_train.shape[1])},\n",
    "    \"RandomForest(n_estimators=10, max_features=sqrt(n_features))\",\n",
    "    x_train, y_train, x_test, y_test\n",
    ")\n",
    "\n",
    "score += patient_checker(\n",
    "    5, 0.91, RandomForest,\n",
    "    {\"n_estimators\": 100, \"max_features\": np.sqrt(x_train.shape[1])},\n",
    "    \"RandomForest(n_estimators=100, max_features=sqrt(n_features))\",\n",
    "    x_train, y_train, x_test, y_test\n",
    ")\n",
    "\n",
    "score += patient_checker(\n",
    "    5, 0.92, RandomForest,\n",
    "    {\"n_estimators\": 10, \"max_features\": x_train.shape[1]},\n",
    "    \"RandomForest(n_estimators=10, max_features=n_features)\",\n",
    "    x_train, y_train, x_test, y_test\n",
    ")\n",
    "\n",
    "print(\"*** We will check your result for Question 6 manually *** (20 points)\")\n",
    "print(\"Approximate score range:\", score, \"~\", score + 25)\n",
    "print(\"*** This score is only for reference ***\")\n"
   ]
  }
 ],
 "metadata": {
  "kernelspec": {
   "display_name": "Python 3.10.8 64-bit (microsoft store)",
   "language": "python",
   "name": "python3"
  },
  "language_info": {
   "codemirror_mode": {
    "name": "ipython",
    "version": 3
   },
   "file_extension": ".py",
   "mimetype": "text/x-python",
   "name": "python",
   "nbconvert_exporter": "python",
   "pygments_lexer": "ipython3",
   "version": "3.10.8"
  },
  "vscode": {
   "interpreter": {
    "hash": "7b1f2b33e866b0bf2409397e5f58ba9cdf170d3b7f64c8f359c79998e2f88ad4"
   }
  }
 },
 "nbformat": 4,
 "nbformat_minor": 4
}
